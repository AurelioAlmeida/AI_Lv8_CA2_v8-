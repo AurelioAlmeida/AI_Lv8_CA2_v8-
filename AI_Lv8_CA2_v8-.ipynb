{
 "cells": [
  {
   "cell_type": "markdown",
   "id": "f709638f",
   "metadata": {},
   "source": [
    "# Identify the differences between a graph and a tree\n",
    "\n",
    "According to Thareja, 2014, a tree is a non-linear data structure. The main purpose of a tree is to store hierarchical data. Recursively, a tree is defined as a set of one or more nodes, one of which is designated as the root and all the remaining nodes can be partitioned into set of non-empty nodes, each of which is a subtree of the root.\n",
    "\n",
    "According Kopec, 2018, graphs are another non-linear data structure. Graphs are abstract data structures that are used to implement the mathematical concept of graphs. A graph consists of vertices (also known as nodes) and edges connecting these vertices. The graph can be viewed as a generalization of the tree structure, in which instead of having a purely parent-child relationship between tree nodes, any type of complex relationship can be established. The use of graphs is widely used to model any situation in which entities or things are related to one another in pairs.\n",
    "\n",
    "A tree is a hierarchical structure used to represent relationships, in which each node has a parent-child relationship.\n",
    "Graphs, on the other hand, illustrate the relations between entities in a more general way, allowing a variety of complex relationships, including non-hierarchical ones. \n",
    "\n",
    "Every node in a tree, except the root, has one parent. Each node has a subtree.\n",
    "There is no root concept in a graph, and edges connect nodes in a more flexible way, allowing for a variety of relationships between them.\n",
    "\n",
    "Every node in a tree is connected, and there are no cycles.\n",
    "Cycles are allowed in graphs, and nodes can be connected more creatively.\n",
    "\n",
    "A tree's relationships are directional, moving from root to leaf.\n",
    "A directed graph has a specific direction, while an undirected graph is bidirectional.\n",
    " \n",
    "As graphs can represent a wider range of relationships and structures, including complex interconnected systems, they are generally more complex than trees. In contrast, trees represent a simpler hierarchy of elements.\n"
   ]
  },
  {
   "cell_type": "markdown",
   "id": "48d5bf45",
   "metadata": {},
   "source": [
    "## Explain in detail how the graph is an abstraction of the problem\n",
    "\n",
    "According to Bor-Yiing Su and Jike Chong, the graph abstraction serves as a versatile representation of problems across domains, where vertices represent objects, and edges illustrate relations between them.\n",
    "\n",
    "Through well-established graph algorithms such as breadth-first search, depth-first search, and Dijkstra's shortest path, this abstraction facilitates efficient analysis and manipulation. Applications in diverse domains demonstrate the scalability of graph abstraction in solving problems of considerable scale. \n",
    "\n",
    "A graph abstraction is more flexible when information is associated with vertices and edges, accommodating a variety of properties.\n",
    "\n",
    "Graph algorithms, like breadth-first search and Dijkstra's shortest path, demonstrate the versatility of the graph abstraction in solving complex problems.\n",
    "\n",
    "Graph abstractions coupled with graph algorithms provide an effective and scalable method for representing and solving problems across various domains.\n",
    "\n",
    "An algorithm for solving a problem involves a systematic approach:\n",
    "Recognize and understand the unique graph structure associated with the problem.\n",
    "\n",
    "Determine the best way to represent the identified graph structure by selecting an appropriate data structure.\n",
    "\n",
    "Establish the necessary temporary data structures to store variables during the traversal process.\n",
    "\n",
    "Develop strategies for efficiently breaking down the problem and executing parallel traversals, optimizing the graph algorithm.\n"
   ]
  },
  {
   "cell_type": "markdown",
   "id": "e5ad6852",
   "metadata": {},
   "source": [
    "## Identify the advantages of using a visualisation such as the one shown in Fig. 1\n",
    "\n",
    "Easy to Understand: The human brain processes visual information much faster than written information. Visualizing data ensures faster comprehension, reducing the time needed for decision-making and action.\n",
    "\n",
    "Discover More Insights in Your Data: Interacting with data through graph visualization tools increases the likelihood of discovering actionable insights. Managers using visual data discovery tools are more likely to find information in less time.\n",
    "\n",
    "See the Full Context: Graph visualization are effective for visualizing relationships and understanding the context of the data. Provides a complete overview of how everything is connected, allowing for the identification of trends, relationships, and correlations.\n",
    "\n",
    "Share Findings with Ease: Visual representations offer an intuitive way to understand data, making it an effective form of communication. Enables impactful sharing of findings with decision-makers.\n",
    "\n",
    "Accessible to Non-Technical Users: Graph visualization is user-friendly and does not require specific programming skills. Increases the accessibility of insights to a broader audience, enhancing the potential for value creation."
   ]
  },
  {
   "cell_type": "markdown",
   "id": "ed5a51ba",
   "metadata": {},
   "source": [
    "## Demonstrate how Dijkstra’s algorithm would find the shortest path to the solution in Fig.1 through diagrams and written explanation of each stage\n",
    "\n",
    "| Vertex | Shortest Path | Previous Vertex |\n",
    "|--------|---------------| ----------------|\n",
    "|   A    |       0       |                 |\n",
    "|   B    |       1       |       A         |\n",
    "|   C    |       3       |       B         |\n",
    "|   D    |       5       |       B         |\n",
    "|   E    |       9       |       F         |\n",
    "|   F    |       6       |       G         |\n",
    "|   G    |       4       |       C         |\n",
    "|   H    |       2       |       A         |\n",
    "|   J    |       10      |       K         |\n",
    "|   K    |       7       |       H         |\n",
    "|   L    |       7       |       G         |\n",
    "|   M    |       11      |       L         |\n",
    "|   N    |       10      |       L         |\n",
    "|   P    |       13      |       M         |\n",
    "|   Q    |       19      |       W         |\n",
    "|   R    |       18      |       P         |\n",
    "|   S    |       22      |       R         |\n",
    "|   T    |       21      |       R         |\n",
    "|   U    |       22      |       T         |\n",
    "|   V    |       20      |       W         |\n",
    "|   W    |       15      |       E         |"
   ]
  },
  {
   "cell_type": "code",
   "execution_count": null,
   "id": "4de37343",
   "metadata": {},
   "outputs": [],
   "source": []
  }
 ],
 "metadata": {
  "kernelspec": {
   "display_name": "Python 3 (ipykernel)",
   "language": "python",
   "name": "python3"
  },
  "language_info": {
   "codemirror_mode": {
    "name": "ipython",
    "version": 3
   },
   "file_extension": ".py",
   "mimetype": "text/x-python",
   "name": "python",
   "nbconvert_exporter": "python",
   "pygments_lexer": "ipython3",
   "version": "3.9.12"
  }
 },
 "nbformat": 4,
 "nbformat_minor": 5
}
