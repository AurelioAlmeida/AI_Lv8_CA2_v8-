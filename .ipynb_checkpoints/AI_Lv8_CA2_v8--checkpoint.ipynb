{
 "cells": [
  {
   "cell_type": "markdown",
   "id": "f709638f",
   "metadata": {},
   "source": [
    "# Identify the differences between a graph and a tree\n",
    "\n",
    "According to Thareja, 2014, a tree is a non-linear data structure. The main purpose of a tree is to store hierarchical data. Recursively, a tree is defined as a set of one or more nodes, one of which is designated as the root and all the remaining nodes can be partitioned into set of non-empty nodes, each of which is a subtree of the root.\n",
    "\n",
    "According Kopec, 2018, graphs are another non-linear data structure. Graphs are abstract data structures that are used to implement the mathematical concept of graphs. A graph consists of vertices (also known as nodes) and edges connecting these vertices. The graph can be viewed as a generalization of the tree structure, in which instead of having a purely parent-child relationship between tree nodes, any type of complex relationship can be established. The use of graphs is widely used to model any situation in which entities or things are related to one another in pairs.\n",
    "\n",
    "A tree is a hierarchical structure used to represent relationships, in which each node has a parent-child relationship.\n",
    "Graphs, on the other hand, illustrate the relations between entities in a more general way, allowing a variety of complex relationships, including non-hierarchical ones. \n",
    "\n",
    "Every node in a tree, except the root, has one parent. Each node has a subtree.\n",
    "There is no root concept in a graph, and edges connect nodes in a more flexible way, allowing for a variety of relationships between them.\n",
    "\n",
    "Every node in a tree is connected, and there are no cycles.\n",
    "Cycles are allowed in graphs, and nodes can be connected more creatively.\n",
    "\n",
    "A tree's relationships are directional, moving from root to leaf.\n",
    "A directed graph has a specific direction, while an undirected graph is bidirectional.\n",
    " \n",
    "As graphs can represent a wider range of relationships and structures, including complex interconnected systems, they are generally more complex than trees. In contrast, trees represent a simpler hierarchy of elements.\n"
   ]
  },
  {
   "cell_type": "markdown",
   "id": "48d5bf45",
   "metadata": {},
   "source": [
    "## Explain in detail how the graph is an abstraction of the problem\n",
    "\n",
    "According to Bor-Yiing Su and Jike Chong, the graph abstraction serves as a versatile representation of problems across domains, where vertices represent objects, and edges illustrate relations between them.\n",
    "\n",
    "Through well-established graph algorithms such as breadth-first search, depth-first search, and Dijkstra's shortest path, this abstraction facilitates efficient analysis and manipulation. Applications in diverse domains demonstrate the scalability of graph abstraction in solving problems of considerable scale. \n",
    "\n",
    "A graph abstraction is more flexible when information is associated with vertices and edges, accommodating a variety of properties.\n",
    "\n",
    "Graph algorithms, like breadth-first search and Dijkstra's shortest path, demonstrate the versatility of the graph abstraction in solving complex problems.\n",
    "\n",
    "Graph abstractions coupled with graph algorithms provide an effective and scalable method for representing and solving problems across various domains.\n",
    "\n",
    "An algorithm for solving a problem involves a systematic approach:\n",
    "Recognize and understand the unique graph structure associated with the problem.\n",
    "\n",
    "Determine the best way to represent the identified graph structure by selecting an appropriate data structure.\n",
    "\n",
    "Establish the necessary temporary data structures to store variables during the traversal process.\n",
    "\n",
    "Develop strategies for efficiently breaking down the problem and executing parallel traversals, optimizing the graph algorithm.\n"
   ]
  },
  {
   "cell_type": "code",
   "execution_count": null,
   "id": "de38635f",
   "metadata": {},
   "outputs": [],
   "source": []
  }
 ],
 "metadata": {
  "kernelspec": {
   "display_name": "Python 3 (ipykernel)",
   "language": "python",
   "name": "python3"
  },
  "language_info": {
   "codemirror_mode": {
    "name": "ipython",
    "version": 3
   },
   "file_extension": ".py",
   "mimetype": "text/x-python",
   "name": "python",
   "nbconvert_exporter": "python",
   "pygments_lexer": "ipython3",
   "version": "3.9.12"
  }
 },
 "nbformat": 4,
 "nbformat_minor": 5
}
